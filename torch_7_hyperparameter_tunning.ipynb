{
 "cells": [
  {
   "cell_type": "code",
   "execution_count": 2,
   "metadata": {},
   "outputs": [],
   "source": [
    "import pandas as pd \n",
    "import torch \n",
    "from sklearn.model_selection import train_test_split\n",
    "from torch.utils.data import Dataset, DataLoader \n",
    "import torch.nn as nn\n",
    "import torch.optim as optim\n",
    "import matplotlib.pyplot as plt "
   ]
  },
  {
   "cell_type": "code",
   "execution_count": 3,
   "metadata": {},
   "outputs": [
    {
     "data": {
      "text/plain": [
       "<torch._C.Generator at 0x7bf6856713d0>"
      ]
     },
     "execution_count": 3,
     "metadata": {},
     "output_type": "execute_result"
    }
   ],
   "source": [
    "# Set random seeds for reproducibility \n",
    "torch.manual_seed(42)"
   ]
  },
  {
   "cell_type": "code",
   "execution_count": 4,
   "metadata": {},
   "outputs": [
    {
     "name": "stdout",
     "output_type": "stream",
     "text": [
      "Using device: cuda\n"
     ]
    }
   ],
   "source": [
    "device = torch.device('cuda' if torch.cuda.is_available() else 'cpu')\n",
    "print(f\"Using device: {device}\")"
   ]
  },
  {
   "cell_type": "code",
   "execution_count": 5,
   "metadata": {},
   "outputs": [
    {
     "data": {
      "text/html": [
       "<div>\n",
       "<style scoped>\n",
       "    .dataframe tbody tr th:only-of-type {\n",
       "        vertical-align: middle;\n",
       "    }\n",
       "\n",
       "    .dataframe tbody tr th {\n",
       "        vertical-align: top;\n",
       "    }\n",
       "\n",
       "    .dataframe thead th {\n",
       "        text-align: right;\n",
       "    }\n",
       "</style>\n",
       "<table border=\"1\" class=\"dataframe\">\n",
       "  <thead>\n",
       "    <tr style=\"text-align: right;\">\n",
       "      <th></th>\n",
       "      <th>label</th>\n",
       "      <th>pixel1</th>\n",
       "      <th>pixel2</th>\n",
       "      <th>pixel3</th>\n",
       "      <th>pixel4</th>\n",
       "      <th>pixel5</th>\n",
       "      <th>pixel6</th>\n",
       "      <th>pixel7</th>\n",
       "      <th>pixel8</th>\n",
       "      <th>pixel9</th>\n",
       "      <th>...</th>\n",
       "      <th>pixel775</th>\n",
       "      <th>pixel776</th>\n",
       "      <th>pixel777</th>\n",
       "      <th>pixel778</th>\n",
       "      <th>pixel779</th>\n",
       "      <th>pixel780</th>\n",
       "      <th>pixel781</th>\n",
       "      <th>pixel782</th>\n",
       "      <th>pixel783</th>\n",
       "      <th>pixel784</th>\n",
       "    </tr>\n",
       "  </thead>\n",
       "  <tbody>\n",
       "    <tr>\n",
       "      <th>0</th>\n",
       "      <td>2</td>\n",
       "      <td>0</td>\n",
       "      <td>0</td>\n",
       "      <td>0</td>\n",
       "      <td>0</td>\n",
       "      <td>0</td>\n",
       "      <td>0</td>\n",
       "      <td>0</td>\n",
       "      <td>0</td>\n",
       "      <td>0</td>\n",
       "      <td>...</td>\n",
       "      <td>0</td>\n",
       "      <td>0</td>\n",
       "      <td>0</td>\n",
       "      <td>0</td>\n",
       "      <td>0</td>\n",
       "      <td>0</td>\n",
       "      <td>0</td>\n",
       "      <td>0</td>\n",
       "      <td>0</td>\n",
       "      <td>0</td>\n",
       "    </tr>\n",
       "    <tr>\n",
       "      <th>1</th>\n",
       "      <td>9</td>\n",
       "      <td>0</td>\n",
       "      <td>0</td>\n",
       "      <td>0</td>\n",
       "      <td>0</td>\n",
       "      <td>0</td>\n",
       "      <td>0</td>\n",
       "      <td>0</td>\n",
       "      <td>0</td>\n",
       "      <td>0</td>\n",
       "      <td>...</td>\n",
       "      <td>0</td>\n",
       "      <td>0</td>\n",
       "      <td>0</td>\n",
       "      <td>0</td>\n",
       "      <td>0</td>\n",
       "      <td>0</td>\n",
       "      <td>0</td>\n",
       "      <td>0</td>\n",
       "      <td>0</td>\n",
       "      <td>0</td>\n",
       "    </tr>\n",
       "    <tr>\n",
       "      <th>2</th>\n",
       "      <td>6</td>\n",
       "      <td>0</td>\n",
       "      <td>0</td>\n",
       "      <td>0</td>\n",
       "      <td>0</td>\n",
       "      <td>0</td>\n",
       "      <td>0</td>\n",
       "      <td>0</td>\n",
       "      <td>5</td>\n",
       "      <td>0</td>\n",
       "      <td>...</td>\n",
       "      <td>0</td>\n",
       "      <td>0</td>\n",
       "      <td>0</td>\n",
       "      <td>30</td>\n",
       "      <td>43</td>\n",
       "      <td>0</td>\n",
       "      <td>0</td>\n",
       "      <td>0</td>\n",
       "      <td>0</td>\n",
       "      <td>0</td>\n",
       "    </tr>\n",
       "    <tr>\n",
       "      <th>3</th>\n",
       "      <td>0</td>\n",
       "      <td>0</td>\n",
       "      <td>0</td>\n",
       "      <td>0</td>\n",
       "      <td>1</td>\n",
       "      <td>2</td>\n",
       "      <td>0</td>\n",
       "      <td>0</td>\n",
       "      <td>0</td>\n",
       "      <td>0</td>\n",
       "      <td>...</td>\n",
       "      <td>3</td>\n",
       "      <td>0</td>\n",
       "      <td>0</td>\n",
       "      <td>0</td>\n",
       "      <td>0</td>\n",
       "      <td>1</td>\n",
       "      <td>0</td>\n",
       "      <td>0</td>\n",
       "      <td>0</td>\n",
       "      <td>0</td>\n",
       "    </tr>\n",
       "    <tr>\n",
       "      <th>4</th>\n",
       "      <td>3</td>\n",
       "      <td>0</td>\n",
       "      <td>0</td>\n",
       "      <td>0</td>\n",
       "      <td>0</td>\n",
       "      <td>0</td>\n",
       "      <td>0</td>\n",
       "      <td>0</td>\n",
       "      <td>0</td>\n",
       "      <td>0</td>\n",
       "      <td>...</td>\n",
       "      <td>0</td>\n",
       "      <td>0</td>\n",
       "      <td>0</td>\n",
       "      <td>0</td>\n",
       "      <td>0</td>\n",
       "      <td>0</td>\n",
       "      <td>0</td>\n",
       "      <td>0</td>\n",
       "      <td>0</td>\n",
       "      <td>0</td>\n",
       "    </tr>\n",
       "  </tbody>\n",
       "</table>\n",
       "<p>5 rows × 785 columns</p>\n",
       "</div>"
      ],
      "text/plain": [
       "   label  pixel1  pixel2  pixel3  pixel4  pixel5  pixel6  pixel7  pixel8  \\\n",
       "0      2       0       0       0       0       0       0       0       0   \n",
       "1      9       0       0       0       0       0       0       0       0   \n",
       "2      6       0       0       0       0       0       0       0       5   \n",
       "3      0       0       0       0       1       2       0       0       0   \n",
       "4      3       0       0       0       0       0       0       0       0   \n",
       "\n",
       "   pixel9  ...  pixel775  pixel776  pixel777  pixel778  pixel779  pixel780  \\\n",
       "0       0  ...         0         0         0         0         0         0   \n",
       "1       0  ...         0         0         0         0         0         0   \n",
       "2       0  ...         0         0         0        30        43         0   \n",
       "3       0  ...         3         0         0         0         0         1   \n",
       "4       0  ...         0         0         0         0         0         0   \n",
       "\n",
       "   pixel781  pixel782  pixel783  pixel784  \n",
       "0         0         0         0         0  \n",
       "1         0         0         0         0  \n",
       "2         0         0         0         0  \n",
       "3         0         0         0         0  \n",
       "4         0         0         0         0  \n",
       "\n",
       "[5 rows x 785 columns]"
      ]
     },
     "execution_count": 5,
     "metadata": {},
     "output_type": "execute_result"
    }
   ],
   "source": [
    "df = pd.read_csv(\"/home/subhamchakraborty/Default_download/fashion-mnist_train.csv\")\n",
    "df.head()"
   ]
  },
  {
   "cell_type": "code",
   "execution_count": 6,
   "metadata": {},
   "outputs": [
    {
     "data": {
      "text/plain": [
       "(60000, 785)"
      ]
     },
     "execution_count": 6,
     "metadata": {},
     "output_type": "execute_result"
    }
   ],
   "source": [
    "df.shape"
   ]
  },
  {
   "cell_type": "code",
   "execution_count": 7,
   "metadata": {},
   "outputs": [
    {
     "data": {
      "image/png": "[encoded data removed]",
      "text/plain": [
       "<Figure size 1000x1000 with 25 Axes>"
      ]
     },
     "metadata": {},
     "output_type": "display_data"
    }
   ],
   "source": [
    "## Create a 4 x 4 grid of images \n",
    "\n",
    "fig, axes = plt.subplots(5, 5, figsize = (10, 10))\n",
    "fig.suptitle(\"First 25 Images\", fontsize = 16)\n",
    "\n",
    "# Plot the first 16 images from the dataset \n",
    "for i, ax in enumerate(axes.flat):\n",
    "    img = df.iloc[i, 1:].values.reshape(28, 28)  # Reshape to 28x28\n",
    "    ax.imshow(img)  # Display in grayscale\n",
    "    ax.axis('off')  # Remove axis for a cleaner look\n",
    "    ax.set_title(f\"Label: {df.iloc[i, 0]}\")  # Show the label\n",
    "\n",
    "plt.tight_layout(rect=[0, 0, 1, 0.96])  # Adjust layout to fit the title\n",
    "plt.show()"
   ]
  },
  {
   "cell_type": "code",
   "execution_count": 8,
   "metadata": {},
   "outputs": [],
   "source": [
    "## Train test split  \n",
    "\n",
    "X = df.iloc[:,1:].values\n",
    "y = df.iloc[:, 0].values"
   ]
  },
  {
   "cell_type": "code",
   "execution_count": 9,
   "metadata": {},
   "outputs": [],
   "source": [
    "X_train, X_test, y_train, y_test = train_test_split(X, y, random_state=42, test_size=0.2)"
   ]
  },
  {
   "cell_type": "code",
   "execution_count": 10,
   "metadata": {},
   "outputs": [],
   "source": [
    "## Scaling the features \n",
    "\n",
    "X_train = X_train / 255.0\n",
    "X_test = X_test/ 255.0"
   ]
  },
  {
   "cell_type": "code",
   "execution_count": 11,
   "metadata": {},
   "outputs": [],
   "source": [
    "### Create CustomDataset class \n",
    "\n",
    "class CustomDataset(Dataset):\n",
    "\n",
    "    def __init__(self, features, labels):\n",
    "\n",
    "        self.features = torch.tensor(features, dtype = torch.float32) \n",
    "        self.labels = torch.tensor(labels, dtype = torch.long)\n",
    "\n",
    "    def __len__(self):\n",
    "        \n",
    "        return len(self.features)\n",
    "    \n",
    "    def __getitem__(self, index):\n",
    "        return self.features[index], self.labels[index]\n"
   ]
  },
  {
   "cell_type": "code",
   "execution_count": 12,
   "metadata": {},
   "outputs": [],
   "source": [
    "### Create Train Dataset object \n",
    "\n",
    "train_dataset = CustomDataset(X_train, y_train)"
   ]
  },
  {
   "cell_type": "code",
   "execution_count": 13,
   "metadata": {},
   "outputs": [],
   "source": [
    "### Create Test Dataset Object \n",
    "\n",
    "test_dataset = CustomDataset(X_test, y_test)"
   ]
  },
  {
   "cell_type": "code",
   "execution_count": 14,
   "metadata": {},
   "outputs": [],
   "source": [
    "### Create Train and Test Dataloader \n",
    "\n",
    "train_loader = DataLoader(train_dataset, batch_size=32, shuffle = True, pin_memory=True)\n",
    "test_loader = DataLoader(test_dataset, batch_size=32, shuffle = True, pin_memory=True)"
   ]
  },
  {
   "cell_type": "code",
   "execution_count": 15,
   "metadata": {},
   "outputs": [],
   "source": [
    "class MyNN(nn.Module):\n",
    "\n",
    "    def __init__(self, input_dim, output_dim, num_hidden_layers, neurons_per_layer):\n",
    "\n",
    "        super().__init__()\n",
    "\n",
    "        layers = []\n",
    "\n",
    "        for i in range(num_hidden_layers):\n",
    "\n",
    "            layers.append(nn.Linear(input_dim, neurons_per_layer))\n",
    "            layers.append(nn.BatchNorm1d(neurons_per_layer))\n",
    "            layers.append(nn.ReLU())\n",
    "            layers.append(nn.Dropout(0.3))\n",
    "            input_dim = neurons_per_layer\n",
    "\n",
    "        layers.append(nn.Linear(neurons_per_layer, output_dim))\n",
    "\n",
    "        self.model = nn.Sequential(*layers) # Asterisk for unpacking all individual layers \n",
    "    \n",
    "    def forward(self, x):\n",
    "\n",
    "        return self.model(x)"
   ]
  },
  {
   "cell_type": "markdown",
   "metadata": {},
   "source": [
    "## Hyperparameter tunning (based on only num of hiddn layers and neurons per layer)\n",
    "\n",
    "### Objective function"
   ]
  },
  {
   "cell_type": "code",
   "execution_count": 16,
   "metadata": {},
   "outputs": [],
   "source": [
    "def objective(trial):\n",
    "\n",
    "    # Next hyperparameter values from the search space \n",
    "    num_hidden_layers = trial.suggest_int(\"num_hidden_layers\",1, 5)\n",
    "    neurons_per_layer = trial.suggest_int(\"neurons_per_layers\",8, 128, step = 8)\n",
    "\n",
    "    # Model init \n",
    "    input_dim = 784\n",
    "    output_dim = 10\n",
    "\n",
    "    model = MyNN(input_dim, output_dim, num_hidden_layers, neurons_per_layer)\n",
    "    model.to(device)\n",
    "\n",
    "    # Params init \n",
    "\n",
    "    ### Set Learning rate and epochs \n",
    "    learning_rate  = 0.1\n",
    "    epochs = 50\n",
    "\n",
    "    # Optimizer selection \n",
    "\n",
    "    ### Loss Function  \n",
    "    criterion = nn.CrossEntropyLoss()\n",
    "    ### Optimizer \n",
    "    optimizer = optim.SGD(model.parameters(), lr = learning_rate)\n",
    "\n",
    "\n",
    "    # Training loop \n",
    "    ### Training Loop \n",
    "\n",
    "    for epoch in range(epochs):\n",
    "\n",
    "        for batch_features, batch_labels in train_loader:\n",
    "\n",
    "            # Move the data to GPU\n",
    "            batch_features, batch_labels = batch_features.to(device), batch_labels.to(device)\n",
    "\n",
    "            # Forward Pass: \n",
    "\n",
    "            outputs  = model(batch_features)\n",
    "            \n",
    "            # Calculate Loss \n",
    "\n",
    "            loss = criterion(outputs, batch_labels)\n",
    "\n",
    "            # Backward pass \n",
    "            optimizer.zero_grad()\n",
    "            loss.backward()\n",
    "\n",
    "            # Update gradients \n",
    "            optimizer.step()\n",
    "\n",
    "    # Evaluation \n",
    "\n",
    "    model.eval()\n",
    "\n",
    "    ### Evaluation code (on test data)\n",
    "\n",
    "    total = 0\n",
    "    correct = 0\n",
    "\n",
    "    with torch.no_grad():\n",
    "\n",
    "        for batch_features, batch_labels in test_loader:\n",
    "\n",
    "            # Move the data to GPU     \n",
    "            batch_features, batch_labels = batch_features.to(device), batch_labels.to(device)\n",
    "\n",
    "            outputs = model(batch_features)\n",
    "\n",
    "            _,predicted = torch.max(outputs,1)\n",
    "\n",
    "            total = total + batch_labels.shape[0]\n",
    "\n",
    "            correct = correct + (predicted == batch_labels).sum().item()\n",
    "\n",
    "    accuracy = correct/total\n",
    "\n",
    "    return accuracy \n",
    "\n"
   ]
  },
  {
   "cell_type": "code",
   "execution_count": 17,
   "metadata": {},
   "outputs": [
    {
     "name": "stdout",
     "output_type": "stream",
     "text": [
      "Requirement already satisfied: optuna in /home/subhamchakraborty/anaconda3/lib/python3.9/site-packages (4.2.1)\n",
      "Requirement already satisfied: alembic>=1.5.0 in /home/subhamchakraborty/anaconda3/lib/python3.9/site-packages (from optuna) (1.13.3)\n",
      "Requirement already satisfied: colorlog in /home/subhamchakraborty/anaconda3/lib/python3.9/site-packages (from optuna) (6.9.0)\n",
      "Requirement already satisfied: numpy in /home/subhamchakraborty/anaconda3/lib/python3.9/site-packages (from optuna) (1.26.4)\n",
      "Requirement already satisfied: packaging>=20.0 in /home/subhamchakraborty/anaconda3/lib/python3.9/site-packages (from optuna) (24.2)\n",
      "Requirement already satisfied: sqlalchemy>=1.4.2 in /home/subhamchakraborty/anaconda3/lib/python3.9/site-packages (from optuna) (2.0.37)\n",
      "Requirement already satisfied: tqdm in /home/subhamchakraborty/anaconda3/lib/python3.9/site-packages (from optuna) (4.67.1)\n",
      "Requirement already satisfied: PyYAML in /home/subhamchakraborty/anaconda3/lib/python3.9/site-packages (from optuna) (6.0.2)\n",
      "Requirement already satisfied: Mako in /home/subhamchakraborty/anaconda3/lib/python3.9/site-packages (from alembic>=1.5.0->optuna) (1.2.3)\n",
      "Requirement already satisfied: typing-extensions>=4 in /home/subhamchakraborty/anaconda3/lib/python3.9/site-packages (from alembic>=1.5.0->optuna) (4.12.2)\n",
      "Requirement already satisfied: greenlet!=0.4.17 in /home/subhamchakraborty/anaconda3/lib/python3.9/site-packages (from sqlalchemy>=1.4.2->optuna) (3.1.1)\n",
      "Requirement already satisfied: MarkupSafe>=0.9.2 in /home/subhamchakraborty/anaconda3/lib/python3.9/site-packages (from Mako->alembic>=1.5.0->optuna) (3.0.2)\n"
     ]
    }
   ],
   "source": [
    "!pip install optuna "
   ]
  },
  {
   "cell_type": "code",
   "execution_count": 18,
   "metadata": {},
   "outputs": [
    {
     "name": "stderr",
     "output_type": "stream",
     "text": [
      "[I 2025-03-11 11:13:50,799] A new study created in memory with name: no-name-22dbdc2c-57b9-4664-a782-ab1106158bdb\n"
     ]
    }
   ],
   "source": [
    "## Study Design  \n",
    "import optuna \n",
    "\n",
    "study = optuna.create_study(direction = 'maximize')"
   ]
  },
  {
   "cell_type": "code",
   "execution_count": 19,
   "metadata": {},
   "outputs": [
    {
     "name": "stderr",
     "output_type": "stream",
     "text": [
      "[I 2025-03-11 11:17:46,710] Trial 0 finished with value: 0.8918333333333334 and parameters: {'num_hidden_layers': 1, 'neurons_per_layers': 128}. Best is trial 0 with value: 0.8918333333333334.\n",
      "[I 2025-03-11 11:22:29,809] Trial 1 finished with value: 0.89225 and parameters: {'num_hidden_layers': 2, 'neurons_per_layers': 96}. Best is trial 1 with value: 0.89225.\n",
      "[I 2025-03-11 11:26:45,000] Trial 2 finished with value: 0.8911666666666667 and parameters: {'num_hidden_layers': 4, 'neurons_per_layers': 120}. Best is trial 1 with value: 0.89225.\n",
      "[I 2025-03-11 11:31:30,953] Trial 3 finished with value: 0.8681666666666666 and parameters: {'num_hidden_layers': 5, 'neurons_per_layers': 40}. Best is trial 1 with value: 0.89225.\n",
      "[I 2025-03-11 11:37:36,860] Trial 4 finished with value: 0.8604166666666667 and parameters: {'num_hidden_layers': 4, 'neurons_per_layers': 32}. Best is trial 1 with value: 0.89225.\n",
      "[I 2025-03-11 11:44:12,699] Trial 5 finished with value: 0.8785 and parameters: {'num_hidden_layers': 3, 'neurons_per_layers': 56}. Best is trial 1 with value: 0.89225.\n",
      "[I 2025-03-11 11:48:17,369] Trial 6 finished with value: 0.8793333333333333 and parameters: {'num_hidden_layers': 1, 'neurons_per_layers': 64}. Best is trial 1 with value: 0.89225.\n",
      "[I 2025-03-11 11:53:05,533] Trial 7 finished with value: 0.88775 and parameters: {'num_hidden_layers': 2, 'neurons_per_layers': 88}. Best is trial 1 with value: 0.89225.\n",
      "[I 2025-03-11 11:59:11,725] Trial 8 finished with value: 0.8354166666666667 and parameters: {'num_hidden_layers': 4, 'neurons_per_layers': 24}. Best is trial 1 with value: 0.89225.\n",
      "[I 2025-03-11 12:02:24,133] Trial 9 finished with value: 0.44808333333333333 and parameters: {'num_hidden_layers': 4, 'neurons_per_layers': 8}. Best is trial 1 with value: 0.89225.\n"
     ]
    }
   ],
   "source": [
    "study.optimize(objective, n_trials = 10)"
   ]
  },
  {
   "cell_type": "code",
   "execution_count": 20,
   "metadata": {},
   "outputs": [
    {
     "data": {
      "text/plain": [
       "0.89225"
      ]
     },
     "execution_count": 20,
     "metadata": {},
     "output_type": "execute_result"
    }
   ],
   "source": [
    "study.best_value "
   ]
  },
  {
   "cell_type": "code",
   "execution_count": 22,
   "metadata": {},
   "outputs": [
    {
     "data": {
      "text/plain": [
       "{'num_hidden_layers': 2, 'neurons_per_layers': 96}"
      ]
     },
     "execution_count": 22,
     "metadata": {},
     "output_type": "execute_result"
    }
   ],
   "source": [
    "study.best_params "
   ]
  },
  {
   "cell_type": "code",
   "execution_count": null,
   "metadata": {},
   "outputs": [],
   "source": []
  },
  {
   "cell_type": "code",
   "execution_count": null,
   "metadata": {},
   "outputs": [],
   "source": []
  }
 ],
 "metadata": {
  "kernelspec": {
   "display_name": "Subham_env",
   "language": "python",
   "name": "my_env"
  },
  "language_info": {
   "codemirror_mode": {
    "name": "ipython",
    "version": 3
   },
   "file_extension": ".py",
   "mimetype": "text/x-python",
   "name": "python",
   "nbconvert_exporter": "python",
   "pygments_lexer": "ipython3",
   "version": "3.9.15"
  }
 },
 "nbformat": 4,
 "nbformat_minor": 2
}
